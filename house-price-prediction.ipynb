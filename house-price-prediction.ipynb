{
 "cells": [
  {
   "cell_type": "code",
   "execution_count": 1,
   "id": "d833bf33",
   "metadata": {
    "_cell_guid": "b1076dfc-b9ad-4769-8c92-a6c4dae69d19",
    "_uuid": "8f2839f25d086af736a60e9eeb907d3b93b6e0e5",
    "execution": {
     "iopub.execute_input": "2025-10-27T04:18:59.716055Z",
     "iopub.status.busy": "2025-10-27T04:18:59.715665Z",
     "iopub.status.idle": "2025-10-27T04:19:10.883961Z",
     "shell.execute_reply": "2025-10-27T04:19:10.882696Z"
    },
    "papermill": {
     "duration": 11.175559,
     "end_time": "2025-10-27T04:19:10.885877",
     "exception": false,
     "start_time": "2025-10-27T04:18:59.710318",
     "status": "completed"
    },
    "tags": []
   },
   "outputs": [
    {
     "name": "stdout",
     "output_type": "stream",
     "text": [
      "/kaggle/input/mlp-term-3-2025-kaggle-assignment-1/sample_submission.csv\n",
      "/kaggle/input/mlp-term-3-2025-kaggle-assignment-1/train.csv\n",
      "/kaggle/input/mlp-term-3-2025-kaggle-assignment-1/test.csv\n"
     ]
    }
   ],
   "source": [
    "# This Python 3 environment comes with many helpful analytics libraries installed\n",
    "# It is defined by the kaggle/python Docker image: https://github.com/kaggle/docker-python\n",
    "# For example, here's several helpful packages to load\n",
    "\n",
    "import numpy as np # linear algebra\n",
    "import pandas as pd # data processing, CSV file I/O (e.g. pd.read_csv)\n",
    "import matplotlib.pyplot as plt\n",
    "from sklearn.impute import SimpleImputer\n",
    "from sklearn.preprocessing import LabelEncoder, StandardScaler\n",
    "from sklearn.model_selection import GridSearchCV\n",
    "from sklearn.ensemble import RandomForestRegressor\n",
    "import xgboost as xgb\n",
    "from scipy import stats\n",
    "\n",
    "try:\n",
    "    import lightgbm as lgb\n",
    "    LGBM_INSTALLED = True\n",
    "except ImportError:\n",
    "    LGBM_INSTALLED = False\n",
    "\n",
    "\n",
    "\n",
    "# Input data files are available in the read-only \"../input/\" directory\n",
    "# For example, running this (by clicking run or pressing Shift+Enter) will list all files under the input directory\n",
    "\n",
    "import os\n",
    "for dirname, _, filenames in os.walk('/kaggle/input'):\n",
    "    for filename in filenames:\n",
    "        print(os.path.join(dirname, filename))\n",
    "\n",
    "# You can write up to 20GB to the current directory (/kaggle/working/) that gets preserved as output when you create a version using \"Save & Run All\" \n",
    "# You can also write temporary files to /kaggle/temp/, but they won't be saved outside of the current session"
   ]
  },
  {
   "cell_type": "code",
   "execution_count": 2,
   "id": "19707d61",
   "metadata": {
    "execution": {
     "iopub.execute_input": "2025-10-27T04:19:10.894642Z",
     "iopub.status.busy": "2025-10-27T04:19:10.894057Z",
     "iopub.status.idle": "2025-10-27T04:19:10.958823Z",
     "shell.execute_reply": "2025-10-27T04:19:10.957468Z"
    },
    "papermill": {
     "duration": 0.071055,
     "end_time": "2025-10-27T04:19:10.960705",
     "exception": false,
     "start_time": "2025-10-27T04:19:10.889650",
     "status": "completed"
    },
    "tags": []
   },
   "outputs": [],
   "source": [
    "#load data\n",
    "train = pd.read_csv('/kaggle/input/mlp-term-3-2025-kaggle-assignment-1/train.csv')\n",
    "test = pd.read_csv('/kaggle/input/mlp-term-3-2025-kaggle-assignment-1/test.csv')\n",
    "submission = pd.read_csv('/kaggle/input/mlp-term-3-2025-kaggle-assignment-1/sample_submission.csv')\n"
   ]
  },
  {
   "cell_type": "code",
   "execution_count": 3,
   "id": "b9c170e1",
   "metadata": {
    "execution": {
     "iopub.execute_input": "2025-10-27T04:19:10.969632Z",
     "iopub.status.busy": "2025-10-27T04:19:10.968734Z",
     "iopub.status.idle": "2025-10-27T04:19:11.135587Z",
     "shell.execute_reply": "2025-10-27T04:19:11.134252Z"
    },
    "papermill": {
     "duration": 0.17321,
     "end_time": "2025-10-27T04:19:11.137561",
     "exception": false,
     "start_time": "2025-10-27T04:19:10.964351",
     "status": "completed"
    },
    "tags": []
   },
   "outputs": [],
   "source": [
    "#feature engineering\n",
    "train['size'] = train['size'].astype(str)\n",
    "test['size'] = test['size'].astype(str)\n",
    "train['num_bedrooms'] = train['size'].str.extract(r'(\\d+)').astype(float)\n",
    "test['num_bedrooms'] = test['size'].str.extract(r'(\\d+)').astype(float)\n",
    "train['total_sqft_per_bath'] = train['total_sqft'] / (train['bath'] + 1)\n",
    "test['total_sqft_per_bath'] = test['total_sqft'] / (test['bath'] + 1)\n",
    "\n"
   ]
  },
  {
   "cell_type": "code",
   "execution_count": 4,
   "id": "1af4faf0",
   "metadata": {
    "execution": {
     "iopub.execute_input": "2025-10-27T04:19:11.145962Z",
     "iopub.status.busy": "2025-10-27T04:19:11.145428Z",
     "iopub.status.idle": "2025-10-27T04:19:11.171964Z",
     "shell.execute_reply": "2025-10-27T04:19:11.170964Z"
    },
    "papermill": {
     "duration": 0.032784,
     "end_time": "2025-10-27T04:19:11.173874",
     "exception": false,
     "start_time": "2025-10-27T04:19:11.141090",
     "status": "completed"
    },
    "tags": []
   },
   "outputs": [],
   "source": [
    "#impute missing values\n",
    "numeric_cols = ['total_sqft', 'bath', 'balcony', 'num_bedrooms', 'total_sqft_per_bath']\n",
    "cat_cols = ['area_type', 'availability', 'location', 'size']\n",
    "for col in numeric_cols:\n",
    "    train[col] = train[col].fillna(train[col].median())\n",
    "    test[col] = test[col].fillna(train[col].median())\n",
    "for col in cat_cols:\n",
    "    train[col] = train[col].fillna(train[col].mode()[0])\n",
    "    test[col] = test[col].fillna(train[col].mode()[0])\n",
    "\n"
   ]
  },
  {
   "cell_type": "code",
   "execution_count": 5,
   "id": "4f1589e9",
   "metadata": {
    "execution": {
     "iopub.execute_input": "2025-10-27T04:19:11.182896Z",
     "iopub.status.busy": "2025-10-27T04:19:11.181633Z",
     "iopub.status.idle": "2025-10-27T04:19:11.688322Z",
     "shell.execute_reply": "2025-10-27T04:19:11.687205Z"
    },
    "papermill": {
     "duration": 0.512941,
     "end_time": "2025-10-27T04:19:11.690293",
     "exception": false,
     "start_time": "2025-10-27T04:19:11.177352",
     "status": "completed"
    },
    "tags": []
   },
   "outputs": [],
   "source": [
    "# Group rare locations\n",
    "loc_counts = train['location'].value_counts()\n",
    "rare_locs = loc_counts[loc_counts <= 10].index\n",
    "train['location'] = train['location'].replace(rare_locs, 'Other')\n",
    "test['location'] = test['location'].replace(rare_locs, 'Other')\n",
    "\n"
   ]
  },
  {
   "cell_type": "code",
   "execution_count": 6,
   "id": "5c0c4c30",
   "metadata": {
    "execution": {
     "iopub.execute_input": "2025-10-27T04:19:11.701431Z",
     "iopub.status.busy": "2025-10-27T04:19:11.701097Z",
     "iopub.status.idle": "2025-10-27T04:19:11.714083Z",
     "shell.execute_reply": "2025-10-27T04:19:11.712629Z"
    },
    "papermill": {
     "duration": 0.01999,
     "end_time": "2025-10-27T04:19:11.715833",
     "exception": false,
     "start_time": "2025-10-27T04:19:11.695843",
     "status": "completed"
    },
    "tags": []
   },
   "outputs": [],
   "source": [
    "# Log transform the target\n",
    "train['log_price'] = np.log1p(train['price'])\n"
   ]
  },
  {
   "cell_type": "code",
   "execution_count": 7,
   "id": "68f9e2cb",
   "metadata": {
    "execution": {
     "iopub.execute_input": "2025-10-27T04:19:11.724288Z",
     "iopub.status.busy": "2025-10-27T04:19:11.723234Z",
     "iopub.status.idle": "2025-10-27T04:19:11.737924Z",
     "shell.execute_reply": "2025-10-27T04:19:11.736523Z"
    },
    "papermill": {
     "duration": 0.020691,
     "end_time": "2025-10-27T04:19:11.739838",
     "exception": false,
     "start_time": "2025-10-27T04:19:11.719147",
     "status": "completed"
    },
    "tags": []
   },
   "outputs": [],
   "source": [
    "# Remove price outliers (now on log scale is best practice)\n",
    "z = np.abs(stats.zscore(train['log_price']))\n",
    "train = train[z < 3]  # can use z < 2.5 for even stricter\n"
   ]
  },
  {
   "cell_type": "code",
   "execution_count": 8,
   "id": "ab621853",
   "metadata": {
    "execution": {
     "iopub.execute_input": "2025-10-27T04:19:11.748078Z",
     "iopub.status.busy": "2025-10-27T04:19:11.747665Z",
     "iopub.status.idle": "2025-10-27T04:19:11.772896Z",
     "shell.execute_reply": "2025-10-27T04:19:11.771884Z"
    },
    "papermill": {
     "duration": 0.031332,
     "end_time": "2025-10-27T04:19:11.774568",
     "exception": false,
     "start_time": "2025-10-27T04:19:11.743236",
     "status": "completed"
    },
    "tags": []
   },
   "outputs": [],
   "source": [
    "# Label encoding categorical variables\n",
    "for col in cat_cols:\n",
    "    le = LabelEncoder()\n",
    "    combined = pd.concat([train[col], test[col]], axis=0).astype(str)\n",
    "    le.fit(combined)\n",
    "    train[col] = le.transform(train[col].astype(str))\n",
    "    test[col] = le.transform(test[col].astype(str))\n"
   ]
  },
  {
   "cell_type": "code",
   "execution_count": 9,
   "id": "e4086cde",
   "metadata": {
    "execution": {
     "iopub.execute_input": "2025-10-27T04:19:11.782743Z",
     "iopub.status.busy": "2025-10-27T04:19:11.782316Z",
     "iopub.status.idle": "2025-10-27T04:19:11.797443Z",
     "shell.execute_reply": "2025-10-27T04:19:11.796436Z"
    },
    "papermill": {
     "duration": 0.021199,
     "end_time": "2025-10-27T04:19:11.799261",
     "exception": false,
     "start_time": "2025-10-27T04:19:11.778062",
     "status": "completed"
    },
    "tags": []
   },
   "outputs": [],
   "source": [
    "# Feature scaling\n",
    "scale_cols = ['total_sqft', 'num_bedrooms', 'total_sqft_per_bath']\n",
    "scaler = StandardScaler()\n",
    "train[scale_cols] = scaler.fit_transform(train[scale_cols])\n",
    "test[scale_cols] = scaler.transform(test[scale_cols])\n",
    "\n",
    "features = ['area_type', 'availability', 'location', 'size',\n",
    "            'total_sqft', 'bath', 'balcony', 'num_bedrooms', 'total_sqft_per_bath']\n",
    "X = train[features]\n",
    "y = train['log_price']\n",
    "\n"
   ]
  },
  {
   "cell_type": "code",
   "execution_count": 10,
   "id": "ba33893b",
   "metadata": {
    "execution": {
     "iopub.execute_input": "2025-10-27T04:19:11.807939Z",
     "iopub.status.busy": "2025-10-27T04:19:11.806848Z",
     "iopub.status.idle": "2025-10-27T04:19:35.657914Z",
     "shell.execute_reply": "2025-10-27T04:19:35.657143Z"
    },
    "papermill": {
     "duration": 23.857389,
     "end_time": "2025-10-27T04:19:35.659991",
     "exception": false,
     "start_time": "2025-10-27T04:19:11.802602",
     "status": "completed"
    },
    "tags": []
   },
   "outputs": [],
   "source": [
    "\n",
    "# XGBoost hyperparameter tuning\n",
    "xgb_params = {\n",
    "    'learning_rate': [0.05, 0.08],\n",
    "    'max_depth': [6, 8],\n",
    "    'n_estimators': [200, 300],\n",
    "    'subsample': [0.9, 1.0]\n",
    "}\n",
    "xgb_grid = GridSearchCV(xgb.XGBRegressor(random_state=0), xgb_params, scoring='r2', cv=3)\n",
    "xgb_grid.fit(X, y)\n",
    "best_xgb = xgb_grid.best_estimator_\n",
    "\n"
   ]
  },
  {
   "cell_type": "code",
   "execution_count": 11,
   "id": "c23dfd11",
   "metadata": {
    "execution": {
     "iopub.execute_input": "2025-10-27T04:19:35.668165Z",
     "iopub.status.busy": "2025-10-27T04:19:35.667762Z",
     "iopub.status.idle": "2025-10-27T04:19:45.622852Z",
     "shell.execute_reply": "2025-10-27T04:19:45.621798Z"
    },
    "papermill": {
     "duration": 9.961274,
     "end_time": "2025-10-27T04:19:45.624802",
     "exception": false,
     "start_time": "2025-10-27T04:19:35.663528",
     "status": "completed"
    },
    "tags": []
   },
   "outputs": [
    {
     "data": {
      "text/html": [
       "<style>#sk-container-id-1 {color: black;background-color: white;}#sk-container-id-1 pre{padding: 0;}#sk-container-id-1 div.sk-toggleable {background-color: white;}#sk-container-id-1 label.sk-toggleable__label {cursor: pointer;display: block;width: 100%;margin-bottom: 0;padding: 0.3em;box-sizing: border-box;text-align: center;}#sk-container-id-1 label.sk-toggleable__label-arrow:before {content: \"▸\";float: left;margin-right: 0.25em;color: #696969;}#sk-container-id-1 label.sk-toggleable__label-arrow:hover:before {color: black;}#sk-container-id-1 div.sk-estimator:hover label.sk-toggleable__label-arrow:before {color: black;}#sk-container-id-1 div.sk-toggleable__content {max-height: 0;max-width: 0;overflow: hidden;text-align: left;background-color: #f0f8ff;}#sk-container-id-1 div.sk-toggleable__content pre {margin: 0.2em;color: black;border-radius: 0.25em;background-color: #f0f8ff;}#sk-container-id-1 input.sk-toggleable__control:checked~div.sk-toggleable__content {max-height: 200px;max-width: 100%;overflow: auto;}#sk-container-id-1 input.sk-toggleable__control:checked~label.sk-toggleable__label-arrow:before {content: \"▾\";}#sk-container-id-1 div.sk-estimator input.sk-toggleable__control:checked~label.sk-toggleable__label {background-color: #d4ebff;}#sk-container-id-1 div.sk-label input.sk-toggleable__control:checked~label.sk-toggleable__label {background-color: #d4ebff;}#sk-container-id-1 input.sk-hidden--visually {border: 0;clip: rect(1px 1px 1px 1px);clip: rect(1px, 1px, 1px, 1px);height: 1px;margin: -1px;overflow: hidden;padding: 0;position: absolute;width: 1px;}#sk-container-id-1 div.sk-estimator {font-family: monospace;background-color: #f0f8ff;border: 1px dotted black;border-radius: 0.25em;box-sizing: border-box;margin-bottom: 0.5em;}#sk-container-id-1 div.sk-estimator:hover {background-color: #d4ebff;}#sk-container-id-1 div.sk-parallel-item::after {content: \"\";width: 100%;border-bottom: 1px solid gray;flex-grow: 1;}#sk-container-id-1 div.sk-label:hover label.sk-toggleable__label {background-color: #d4ebff;}#sk-container-id-1 div.sk-serial::before {content: \"\";position: absolute;border-left: 1px solid gray;box-sizing: border-box;top: 0;bottom: 0;left: 50%;z-index: 0;}#sk-container-id-1 div.sk-serial {display: flex;flex-direction: column;align-items: center;background-color: white;padding-right: 0.2em;padding-left: 0.2em;position: relative;}#sk-container-id-1 div.sk-item {position: relative;z-index: 1;}#sk-container-id-1 div.sk-parallel {display: flex;align-items: stretch;justify-content: center;background-color: white;position: relative;}#sk-container-id-1 div.sk-item::before, #sk-container-id-1 div.sk-parallel-item::before {content: \"\";position: absolute;border-left: 1px solid gray;box-sizing: border-box;top: 0;bottom: 0;left: 50%;z-index: -1;}#sk-container-id-1 div.sk-parallel-item {display: flex;flex-direction: column;z-index: 1;position: relative;background-color: white;}#sk-container-id-1 div.sk-parallel-item:first-child::after {align-self: flex-end;width: 50%;}#sk-container-id-1 div.sk-parallel-item:last-child::after {align-self: flex-start;width: 50%;}#sk-container-id-1 div.sk-parallel-item:only-child::after {width: 0;}#sk-container-id-1 div.sk-dashed-wrapped {border: 1px dashed gray;margin: 0 0.4em 0.5em 0.4em;box-sizing: border-box;padding-bottom: 0.4em;background-color: white;}#sk-container-id-1 div.sk-label label {font-family: monospace;font-weight: bold;display: inline-block;line-height: 1.2em;}#sk-container-id-1 div.sk-label-container {text-align: center;}#sk-container-id-1 div.sk-container {/* jupyter's `normalize.less` sets `[hidden] { display: none; }` but bootstrap.min.css set `[hidden] { display: none !important; }` so we also need the `!important` here to be able to override the default hidden behavior on the sphinx rendered scikit-learn.org. See: https://github.com/scikit-learn/scikit-learn/issues/21755 */display: inline-block !important;position: relative;}#sk-container-id-1 div.sk-text-repr-fallback {display: none;}</style><div id=\"sk-container-id-1\" class=\"sk-top-container\"><div class=\"sk-text-repr-fallback\"><pre>RandomForestRegressor(max_depth=16, n_estimators=300, random_state=0)</pre><b>In a Jupyter environment, please rerun this cell to show the HTML representation or trust the notebook. <br />On GitHub, the HTML representation is unable to render, please try loading this page with nbviewer.org.</b></div><div class=\"sk-container\" hidden><div class=\"sk-item\"><div class=\"sk-estimator sk-toggleable\"><input class=\"sk-toggleable__control sk-hidden--visually\" id=\"sk-estimator-id-1\" type=\"checkbox\" checked><label for=\"sk-estimator-id-1\" class=\"sk-toggleable__label sk-toggleable__label-arrow\">RandomForestRegressor</label><div class=\"sk-toggleable__content\"><pre>RandomForestRegressor(max_depth=16, n_estimators=300, random_state=0)</pre></div></div></div></div></div>"
      ],
      "text/plain": [
       "RandomForestRegressor(max_depth=16, n_estimators=300, random_state=0)"
      ]
     },
     "execution_count": 11,
     "metadata": {},
     "output_type": "execute_result"
    }
   ],
   "source": [
    "# Random Forest (already good, add more trees)\n",
    "rf = RandomForestRegressor(n_estimators=300, max_depth=16, random_state=0)\n",
    "rf.fit(X, y)\n"
   ]
  },
  {
   "cell_type": "code",
   "execution_count": 12,
   "id": "e1b14993",
   "metadata": {
    "execution": {
     "iopub.execute_input": "2025-10-27T04:19:45.633457Z",
     "iopub.status.busy": "2025-10-27T04:19:45.633126Z",
     "iopub.status.idle": "2025-10-27T04:19:46.339346Z",
     "shell.execute_reply": "2025-10-27T04:19:46.338569Z"
    },
    "papermill": {
     "duration": 0.712782,
     "end_time": "2025-10-27T04:19:46.341303",
     "exception": false,
     "start_time": "2025-10-27T04:19:45.628521",
     "status": "completed"
    },
    "tags": []
   },
   "outputs": [
    {
     "name": "stdout",
     "output_type": "stream",
     "text": [
      "[LightGBM] [Info] Auto-choosing row-wise multi-threading, the overhead of testing was 0.002570 seconds.\n",
      "You can set `force_row_wise=true` to remove the overhead.\n",
      "And if memory is not enough, you can set `force_col_wise=true`.\n",
      "[LightGBM] [Info] Total Bins 826\n",
      "[LightGBM] [Info] Number of data points in the train set: 9911, number of used features: 9\n",
      "[LightGBM] [Info] Start training from score 4.391864\n",
      "[LightGBM] [Warning] No further splits with positive gain, best gain: -inf\n",
      "[LightGBM] [Warning] No further splits with positive gain, best gain: -inf\n",
      "[LightGBM] [Warning] No further splits with positive gain, best gain: -inf\n",
      "[LightGBM] [Warning] No further splits with positive gain, best gain: -inf\n",
      "[LightGBM] [Warning] No further splits with positive gain, best gain: -inf\n",
      "[LightGBM] [Warning] No further splits with positive gain, best gain: -inf\n",
      "[LightGBM] [Warning] No further splits with positive gain, best gain: -inf\n",
      "[LightGBM] [Warning] No further splits with positive gain, best gain: -inf\n",
      "[LightGBM] [Warning] No further splits with positive gain, best gain: -inf\n",
      "[LightGBM] [Warning] No further splits with positive gain, best gain: -inf\n",
      "[LightGBM] [Warning] No further splits with positive gain, best gain: -inf\n",
      "[LightGBM] [Warning] No further splits with positive gain, best gain: -inf\n",
      "[LightGBM] [Warning] No further splits with positive gain, best gain: -inf\n",
      "[LightGBM] [Warning] No further splits with positive gain, best gain: -inf\n",
      "[LightGBM] [Warning] No further splits with positive gain, best gain: -inf\n",
      "[LightGBM] [Warning] No further splits with positive gain, best gain: -inf\n",
      "[LightGBM] [Warning] No further splits with positive gain, best gain: -inf\n",
      "[LightGBM] [Warning] No further splits with positive gain, best gain: -inf\n",
      "[LightGBM] [Warning] No further splits with positive gain, best gain: -inf\n",
      "[LightGBM] [Warning] No further splits with positive gain, best gain: -inf\n",
      "[LightGBM] [Warning] No further splits with positive gain, best gain: -inf\n",
      "[LightGBM] [Warning] No further splits with positive gain, best gain: -inf\n",
      "[LightGBM] [Warning] No further splits with positive gain, best gain: -inf\n",
      "[LightGBM] [Warning] No further splits with positive gain, best gain: -inf\n",
      "[LightGBM] [Warning] No further splits with positive gain, best gain: -inf\n",
      "[LightGBM] [Warning] No further splits with positive gain, best gain: -inf\n",
      "[LightGBM] [Warning] No further splits with positive gain, best gain: -inf\n",
      "[LightGBM] [Warning] No further splits with positive gain, best gain: -inf\n",
      "[LightGBM] [Warning] No further splits with positive gain, best gain: -inf\n",
      "[LightGBM] [Warning] No further splits with positive gain, best gain: -inf\n",
      "[LightGBM] [Warning] No further splits with positive gain, best gain: -inf\n",
      "[LightGBM] [Warning] No further splits with positive gain, best gain: -inf\n",
      "[LightGBM] [Warning] No further splits with positive gain, best gain: -inf\n",
      "[LightGBM] [Warning] No further splits with positive gain, best gain: -inf\n",
      "[LightGBM] [Warning] No further splits with positive gain, best gain: -inf\n",
      "[LightGBM] [Warning] No further splits with positive gain, best gain: -inf\n",
      "[LightGBM] [Warning] No further splits with positive gain, best gain: -inf\n",
      "[LightGBM] [Warning] No further splits with positive gain, best gain: -inf\n",
      "[LightGBM] [Warning] No further splits with positive gain, best gain: -inf\n",
      "[LightGBM] [Warning] No further splits with positive gain, best gain: -inf\n",
      "[LightGBM] [Warning] No further splits with positive gain, best gain: -inf\n",
      "[LightGBM] [Warning] No further splits with positive gain, best gain: -inf\n",
      "[LightGBM] [Warning] No further splits with positive gain, best gain: -inf\n",
      "[LightGBM] [Warning] No further splits with positive gain, best gain: -inf\n",
      "[LightGBM] [Warning] No further splits with positive gain, best gain: -inf\n",
      "[LightGBM] [Warning] No further splits with positive gain, best gain: -inf\n",
      "[LightGBM] [Warning] No further splits with positive gain, best gain: -inf\n",
      "[LightGBM] [Warning] No further splits with positive gain, best gain: -inf\n",
      "[LightGBM] [Warning] No further splits with positive gain, best gain: -inf\n",
      "[LightGBM] [Warning] No further splits with positive gain, best gain: -inf\n",
      "[LightGBM] [Warning] No further splits with positive gain, best gain: -inf\n",
      "[LightGBM] [Warning] No further splits with positive gain, best gain: -inf\n",
      "[LightGBM] [Warning] No further splits with positive gain, best gain: -inf\n",
      "[LightGBM] [Warning] No further splits with positive gain, best gain: -inf\n",
      "[LightGBM] [Warning] No further splits with positive gain, best gain: -inf\n",
      "[LightGBM] [Warning] No further splits with positive gain, best gain: -inf\n",
      "[LightGBM] [Warning] No further splits with positive gain, best gain: -inf\n",
      "[LightGBM] [Warning] No further splits with positive gain, best gain: -inf\n",
      "[LightGBM] [Warning] No further splits with positive gain, best gain: -inf\n",
      "[LightGBM] [Warning] No further splits with positive gain, best gain: -inf\n",
      "[LightGBM] [Warning] No further splits with positive gain, best gain: -inf\n",
      "[LightGBM] [Warning] No further splits with positive gain, best gain: -inf\n",
      "[LightGBM] [Warning] No further splits with positive gain, best gain: -inf\n",
      "[LightGBM] [Warning] No further splits with positive gain, best gain: -inf\n",
      "[LightGBM] [Warning] No further splits with positive gain, best gain: -inf\n",
      "[LightGBM] [Warning] No further splits with positive gain, best gain: -inf\n",
      "[LightGBM] [Warning] No further splits with positive gain, best gain: -inf\n"
     ]
    }
   ],
   "source": [
    "if LGBM_INSTALLED:\n",
    "    lgbm = lgb.LGBMRegressor(n_estimators=300, max_depth=8, learning_rate=0.08, random_state=0)\n",
    "    lgbm.fit(X, y)\n",
    "    lgbm_preds = lgbm.predict(test[features])\n",
    "\n",
    "rf_preds = rf.predict(test[features])\n",
    "xgb_preds = best_xgb.predict(test[features])\n"
   ]
  },
  {
   "cell_type": "code",
   "execution_count": 13,
   "id": "75a7374c",
   "metadata": {
    "execution": {
     "iopub.execute_input": "2025-10-27T04:19:46.351325Z",
     "iopub.status.busy": "2025-10-27T04:19:46.350963Z",
     "iopub.status.idle": "2025-10-27T04:19:46.371696Z",
     "shell.execute_reply": "2025-10-27T04:19:46.370623Z"
    },
    "papermill": {
     "duration": 0.027374,
     "end_time": "2025-10-27T04:19:46.373532",
     "exception": false,
     "start_time": "2025-10-27T04:19:46.346158",
     "status": "completed"
    },
    "tags": []
   },
   "outputs": [],
   "source": [
    "if LGBM_INSTALLED:\n",
    "    blend = (rf_preds + xgb_preds + lgbm_preds) / 3\n",
    "else:\n",
    "    blend = (rf_preds + xgb_preds) / 2\n",
    "\n",
    "submission['price'] = np.expm1(blend)\n",
    "submission.to_csv('submission.csv', index=False)\n"
   ]
  }
 ],
 "metadata": {
  "kaggle": {
   "accelerator": "none",
   "dataSources": [
    {
     "databundleVersionId": 14071837,
     "sourceId": 117453,
     "sourceType": "competition"
    }
   ],
   "dockerImageVersionId": 31153,
   "isGpuEnabled": false,
   "isInternetEnabled": false,
   "language": "python",
   "sourceType": "notebook"
  },
  "kernelspec": {
   "display_name": "Python 3",
   "language": "python",
   "name": "python3"
  },
  "language_info": {
   "codemirror_mode": {
    "name": "ipython",
    "version": 3
   },
   "file_extension": ".py",
   "mimetype": "text/x-python",
   "name": "python",
   "nbconvert_exporter": "python",
   "pygments_lexer": "ipython3",
   "version": "3.11.13"
  },
  "papermill": {
   "default_parameters": {},
   "duration": 52.946758,
   "end_time": "2025-10-27T04:19:47.298631",
   "environment_variables": {},
   "exception": null,
   "input_path": "__notebook__.ipynb",
   "output_path": "__notebook__.ipynb",
   "parameters": {},
   "start_time": "2025-10-27T04:18:54.351873",
   "version": "2.6.0"
  }
 },
 "nbformat": 4,
 "nbformat_minor": 5
}
